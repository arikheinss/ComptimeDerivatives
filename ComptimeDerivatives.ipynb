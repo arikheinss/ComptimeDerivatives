{
 "cells": [
  {
   "cell_type": "code",
   "execution_count": 1,
   "id": "bfdacdf0-07d0-4dba-a6ae-b56e05da621d",
   "metadata": {},
   "outputs": [
    {
     "data": {
      "text/plain": [
       "elemDiff (generic function with 3 methods)"
      ]
     },
     "execution_count": 1,
     "metadata": {},
     "output_type": "execute_result"
    }
   ],
   "source": [
    "# Representing variables or values constructed with variables\n",
    "abstract type SymVal end\n",
    "\n",
    "# A variable with name S and value x\n",
    "struct Var{S} <: SymVal\n",
    "    x::Float64\n",
    "end\n",
    "\n",
    "Var(s::Symbol, x) = Var{s}(Float64(x))\n",
    "\n",
    "# This stores how a value was created\n",
    "struct Operation{FuncType,ArgTypes}\n",
    "    op::FuncType\n",
    "    args::ArgTypes\n",
    "end\n",
    "\n",
    "# A value created using Variables\n",
    "struct Value{OT} <: SymVal\n",
    "    x::Float64\n",
    "    op::OT\n",
    "end\n",
    "\n",
    "value(var::Var) = var.x\n",
    "value(val::Value) = val.x\n",
    "value(x::Number) = x\n",
    "\n",
    "import Base.show\n",
    "Base.show(io::IO, var::Var{S})  where S= print(io, S, \": \", value(var))\n",
    "Base.show(io::IO, val::Value) = print(io, \"Value \", value(val))\n",
    "\n",
    "# dx/dx = 1\n",
    "diff(x::Var{S}, y::Var{S}) where S = 1.0\n",
    "\n",
    "# dx/dy = 0   if x,y are independent\n",
    "diff(x::Var{S}, y::Var{V}) where {S,V} = 0.0\n",
    "\n",
    "# d5/dx = 0 / deriving a constant is always zero\n",
    "diff(x::Number, _whatever ) = 0.0\n",
    "\n",
    "# ---------------------- Buisness logic below here--------------------------------------\n",
    "import Base.+\n",
    "+(val1::SymVal, val2::SymVal) = Value(value(val1) + value(val2), Operation(+,(val1,val2)))\n",
    "+(val1::SymVal, val2) = Value(value(val1) + value(val2), Operation(+,(val1,val2)))\n",
    "+(val1, val2::SymVal) = Value(value(val1) + value(val2), Operation(+,(val1,val2)))\n",
    "\n",
    "# ok, this is getting annoying. Lets use metaprogramming instead to define the rest of \n",
    "# the operators for me\n",
    "for op in (:*, :-, :/)\n",
    "    @eval begin\n",
    "        import Base.$op\n",
    "        # these lines do exactly the same as the three above for +, but now I apply the same template to\n",
    "        # all operators in the list at once.\n",
    "        # I don't expect a newbie to julia to understand how this works, just to showcase how the language can\n",
    "        # save you work.\n",
    "        # Also: Githubs notebook diplay does really not play nice with the $ sign, you might need to download this to see whats happening\n",
    "        $op(val1::SymVal, val2::SymVal) = Value($op(value(val1), value(val2)), Operation($op,(val1,val2)))\n",
    "        $op(val1::SymVal, val2) = Value($op(value(val1), value(val2)), Operation($op,(val1,val2))) \n",
    "        $op(val1, val2::SymVal) = Value($op(value(val1), value(val2)), Operation($op,(val1,val2)))\n",
    "    end        \n",
    "end\n",
    "\n",
    "import Base.exp\n",
    "exp(x::SymVal) = Value(exp(value(x)), Operation(exp, x))\n",
    "# lets do the same for the other single-arg functions\n",
    "for fun in ( :log, :sin, :cos, :tan)\n",
    "    @eval begin\n",
    "        import Base.$fun\n",
    "        # this looks like the line with exp above, but using all the other functions\n",
    "        $fun(x::SymVal) = Value($fun(value(x)), Operation($fun, x))\n",
    "    end\n",
    "end\n",
    "\n",
    "# d(f+g)/dx = df/dx + dg/dx\n",
    "diff(x::Value{Operation{FT, AT}}, var::Var) where {FT <: typeof(+), AT} = sum(diff(y, var) for y in x.op.args)\n",
    "\n",
    "# differentiation of a product. It's just chain rule\n",
    "# this gracelessly fails if op.args is not a two-tuple\n",
    "diff(x::Value{Operation{FT, AT}}, var::Var) where {FT <: typeof(*), AT} = \n",
    "    diff(x.op.args[1], var) * value(x.op.args[2]) + diff(x.op.args[2], var) * value(x.op.args[1]) \n",
    "\n",
    "# this is a demonstration, so I'll let you try to implement the other binary operators /, - etc yourself\n",
    "# maybe you have a binary operator that I forgot? See wether you can add it to the system, and how to do\n",
    "# it most efficiently and most compiler-friendly\n",
    "\n",
    "# lets do all the single-arg functions in one go, using the chain rule!\n",
    "# elemDiff(FT) returns f',    x.op.args is g(x) \n",
    "# d(f(g(x)))/dx = g'(x) * f'(g(x))\n",
    "diff(x::Value{Operation{FT, AT}}, var::Var) where {FT, AT <: Union{Number, SymVal}} = diff(x.op.args, var) * elemDiff(FT)(value(x.op.args))\n",
    "\n",
    "\n",
    "# this function defines the elementary differentials for one-argument functions.\n",
    "# note that it works on the type-level\n",
    "elemDiff(::Type{typeof(exp)}) = exp\n",
    "elemDiff(::Type{typeof(sin)}) = cos\n",
    "elemDiff(::Type{typeof(cos)}) = x -> -1 * sin(x)\n",
    "# .. and so on..."
   ]
  },
  {
   "cell_type": "code",
   "execution_count": 2,
   "id": "f96b962c-7f60-46cc-ac1e-35606074649c",
   "metadata": {},
   "outputs": [
    {
     "data": {
      "text/plain": [
       "x: 2.0"
      ]
     },
     "execution_count": 2,
     "metadata": {},
     "output_type": "execute_result"
    }
   ],
   "source": [
    "x = Var(:x, 2)"
   ]
  },
  {
   "cell_type": "code",
   "execution_count": 3,
   "id": "4cbd299a-ecea-4f6b-8b22-16cf4389ffaf",
   "metadata": {},
   "outputs": [
    {
     "data": {
      "text/plain": [
       "y: 3.0"
      ]
     },
     "execution_count": 3,
     "metadata": {},
     "output_type": "execute_result"
    }
   ],
   "source": [
    "y = Var(:y, 3)"
   ]
  },
  {
   "cell_type": "code",
   "execution_count": 4,
   "id": "4e000c10-fa1f-4345-97fe-3a32a5e1268a",
   "metadata": {},
   "outputs": [
    {
     "data": {
      "text/plain": [
       "Value 4.0"
      ]
     },
     "execution_count": 4,
     "metadata": {},
     "output_type": "execute_result"
    }
   ],
   "source": [
    "x + x "
   ]
  },
  {
   "cell_type": "code",
   "execution_count": 5,
   "id": "ef035846-594c-4181-9f9b-9d521740ba3f",
   "metadata": {},
   "outputs": [
    {
     "data": {
      "text/plain": [
       "Value 9.4"
      ]
     },
     "execution_count": 5,
     "metadata": {},
     "output_type": "execute_result"
    }
   ],
   "source": [
    "x + x + y + 2.4"
   ]
  },
  {
   "cell_type": "markdown",
   "id": "54c28b09-9b1f-4167-9673-28b0cdc45637",
   "metadata": {},
   "source": [
    "Basic calculation seems to work..."
   ]
  },
  {
   "cell_type": "code",
   "execution_count": 6,
   "id": "02ea08d8-18ec-417b-8253-e5a6b4b10d29",
   "metadata": {},
   "outputs": [
    {
     "data": {
      "text/plain": [
       "2.0"
      ]
     },
     "execution_count": 6,
     "metadata": {},
     "output_type": "execute_result"
    }
   ],
   "source": [
    "diff(x + x, x)"
   ]
  },
  {
   "cell_type": "markdown",
   "id": "662a56ef-dd77-408f-9eda-9452c6be609e",
   "metadata": {},
   "source": [
    "$\\frac{d(x+x)}{dx} = 2$, so far so good"
   ]
  },
  {
   "cell_type": "code",
   "execution_count": 7,
   "id": "77d03e19-85c5-476e-b85b-4752d8d9815c",
   "metadata": {},
   "outputs": [
    {
     "data": {
      "text/plain": [
       "Value 0.9092974268256817"
      ]
     },
     "execution_count": 7,
     "metadata": {},
     "output_type": "execute_result"
    }
   ],
   "source": [
    "sin(x)"
   ]
  },
  {
   "cell_type": "code",
   "execution_count": 8,
   "id": "cf390943-15c8-4fc6-bf23-379d413dded1",
   "metadata": {},
   "outputs": [
    {
     "data": {
      "text/plain": [
       "0.9092974268256817"
      ]
     },
     "execution_count": 8,
     "metadata": {},
     "output_type": "execute_result"
    }
   ],
   "source": [
    "sin(2)"
   ]
  },
  {
   "cell_type": "code",
   "execution_count": 9,
   "id": "6ff86380-ffe4-4cc7-9cb0-6dd6d8d08c9a",
   "metadata": {},
   "outputs": [
    {
     "data": {
      "text/plain": [
       "-0.4161468365471424"
      ]
     },
     "execution_count": 9,
     "metadata": {},
     "output_type": "execute_result"
    }
   ],
   "source": [
    "diff(sin(x), x)"
   ]
  },
  {
   "cell_type": "code",
   "execution_count": 10,
   "id": "f734f53a-a562-4a8b-adb7-56e7c26727f2",
   "metadata": {},
   "outputs": [
    {
     "data": {
      "text/plain": [
       "-0.4161468365471424"
      ]
     },
     "execution_count": 10,
     "metadata": {},
     "output_type": "execute_result"
    }
   ],
   "source": [
    "cos(2)"
   ]
  },
  {
   "cell_type": "code",
   "execution_count": 11,
   "id": "1b420aa6-9571-4ab7-b7cd-c589f0af10c8",
   "metadata": {},
   "outputs": [
    {
     "data": {
      "text/plain": [
       "Value 0.8938549549128102"
      ]
     },
     "execution_count": 11,
     "metadata": {},
     "output_type": "execute_result"
    }
   ],
   "source": [
    "sin(exp(x))"
   ]
  },
  {
   "cell_type": "code",
   "execution_count": 12,
   "id": "ba89d5d9-6057-41f8-b2cb-eaabde28eee3",
   "metadata": {},
   "outputs": [
    {
     "data": {
      "text/plain": [
       "0.8938549549128102"
      ]
     },
     "execution_count": 12,
     "metadata": {},
     "output_type": "execute_result"
    }
   ],
   "source": [
    "sin(exp(2))"
   ]
  },
  {
   "cell_type": "code",
   "execution_count": 13,
   "id": "c435036d-996f-4272-997b-4c1e6f6ae05c",
   "metadata": {},
   "outputs": [
    {
     "data": {
      "text/plain": [
       "3.312929423104333"
      ]
     },
     "execution_count": 13,
     "metadata": {},
     "output_type": "execute_result"
    }
   ],
   "source": [
    "diff(sin(exp(x)), x)"
   ]
  },
  {
   "cell_type": "code",
   "execution_count": 14,
   "id": "6d2f6f5c-ef12-4e0f-9528-c8bfcc005f21",
   "metadata": {},
   "outputs": [
    {
     "data": {
      "text/plain": [
       "Value 3.312929423104333"
      ]
     },
     "execution_count": 14,
     "metadata": {},
     "output_type": "execute_result"
    }
   ],
   "source": [
    "cos(exp(x)) * exp(x)"
   ]
  },
  {
   "cell_type": "code",
   "execution_count": 15,
   "id": "97f24cc0-7b50-4e98-b721-3869917df72d",
   "metadata": {},
   "outputs": [
    {
     "data": {
      "text/plain": [
       "218.39260013257694"
      ]
     },
     "execution_count": 15,
     "metadata": {},
     "output_type": "execute_result"
    }
   ],
   "source": [
    "diff(exp(x*x), x)"
   ]
  },
  {
   "cell_type": "code",
   "execution_count": 16,
   "id": "54aaf98d-cc3c-4259-bbf7-3c658094bd2a",
   "metadata": {},
   "outputs": [
    {
     "data": {
      "text/plain": [
       "218.39260013257694"
      ]
     },
     "execution_count": 16,
     "metadata": {},
     "output_type": "execute_result"
    }
   ],
   "source": [
    " (x -> 2*x*exp(x^2) )(2)"
   ]
  },
  {
   "cell_type": "markdown",
   "id": "516747a1-e4f7-46bb-90a2-934be5463804",
   "metadata": {},
   "source": [
    "so far so good, but how fast are we, and how good can the compiler optimize this?\n",
    "\n",
    "To find out, we can use `@code_llvm` which will give us the compiled low-level code\n",
    "of the called function. I do not expect anyone to understand much llvm code,\n",
    "but the ones we will look at are really simple."
   ]
  },
  {
   "cell_type": "code",
   "execution_count": 17,
   "id": "0560849d-b764-4b92-b0c9-b8cb606c57b2",
   "metadata": {},
   "outputs": [
    {
     "name": "stdout",
     "output_type": "stream",
     "text": [
      "\u001b[90m;  @ In[1]:73 within `diff`\u001b[39m\n",
      "\u001b[95mdefine\u001b[39m \u001b[36mdouble\u001b[39m \u001b[93m@julia_diff_1338\u001b[39m\u001b[33m(\u001b[39m\u001b[33m{\u001b[39m \u001b[36mdouble\u001b[39m\u001b[0m, \u001b[33m{\u001b[39m \u001b[33m[\u001b[39m\u001b[33m2\u001b[39m \u001b[0mx \u001b[33m[\u001b[39m\u001b[33m1\u001b[39m \u001b[0mx \u001b[36mdouble\u001b[39m\u001b[33m]\u001b[39m\u001b[33m]\u001b[39m \u001b[33m}\u001b[39m \u001b[33m}\u001b[39m\u001b[0m* \u001b[95mnocapture\u001b[39m \u001b[95mnoundef\u001b[39m \u001b[95mnonnull\u001b[39m \u001b[95mreadonly\u001b[39m \u001b[95malign\u001b[39m \u001b[33m8\u001b[39m \u001b[95mdereferenceable\u001b[39m\u001b[33m(\u001b[39m\u001b[33m24\u001b[39m\u001b[33m)\u001b[39m \u001b[0m%0\u001b[0m, \u001b[33m[\u001b[39m\u001b[33m1\u001b[39m \u001b[0mx \u001b[36mdouble\u001b[39m\u001b[33m]\u001b[39m\u001b[0m* \u001b[95mnocapture\u001b[39m \u001b[95mnoundef\u001b[39m \u001b[95mnonnull\u001b[39m \u001b[95mreadonly\u001b[39m \u001b[95malign\u001b[39m \u001b[33m8\u001b[39m \u001b[95mdereferenceable\u001b[39m\u001b[33m(\u001b[39m\u001b[33m8\u001b[39m\u001b[33m)\u001b[39m \u001b[0m%1\u001b[33m)\u001b[39m \u001b[0m#0 \u001b[33m{\u001b[39m\n",
      "\u001b[91mtop:\u001b[39m\n",
      "  \u001b[96m\u001b[1mret\u001b[22m\u001b[39m \u001b[36mdouble\u001b[39m \u001b[33m2.000000e+00\u001b[39m\n",
      "\u001b[33m}\u001b[39m\n"
     ]
    }
   ],
   "source": [
    "@code_llvm diff(x + x  , x)"
   ]
  },
  {
   "cell_type": "markdown",
   "id": "b9dc7688-4418-41d3-b494-7ded5f984442",
   "metadata": {},
   "source": [
    "The super long line after the `define` is just a function header, the body is the code after the `top:`\n",
    "\n",
    "As you can see, the function does nothing, it just returns 2.0; The compiler knew the result at compiletime."
   ]
  },
  {
   "cell_type": "code",
   "execution_count": 18,
   "id": "46ceb45e-c8ea-463c-883c-bb435b54f4b2",
   "metadata": {},
   "outputs": [
    {
     "name": "stdout",
     "output_type": "stream",
     "text": [
      "\u001b[90m;  @ In[1]:73 within `diff`\u001b[39m\n",
      "\u001b[95mdefine\u001b[39m \u001b[36mdouble\u001b[39m \u001b[93m@julia_diff_1365\u001b[39m\u001b[33m(\u001b[39m\u001b[33m{\u001b[39m \u001b[36mdouble\u001b[39m\u001b[0m, \u001b[33m{\u001b[39m \u001b[33m{\u001b[39m \u001b[33m{\u001b[39m \u001b[36mdouble\u001b[39m\u001b[0m, \u001b[33m{\u001b[39m \u001b[33m[\u001b[39m\u001b[33m2\u001b[39m \u001b[0mx \u001b[33m[\u001b[39m\u001b[33m1\u001b[39m \u001b[0mx \u001b[36mdouble\u001b[39m\u001b[33m]\u001b[39m\u001b[33m]\u001b[39m \u001b[33m}\u001b[39m \u001b[33m}\u001b[39m\u001b[0m, \u001b[33m[\u001b[39m\u001b[33m1\u001b[39m \u001b[0mx \u001b[36mdouble\u001b[39m\u001b[33m]\u001b[39m \u001b[33m}\u001b[39m \u001b[33m}\u001b[39m \u001b[33m}\u001b[39m\u001b[0m* \u001b[95mnocapture\u001b[39m \u001b[95mnoundef\u001b[39m \u001b[95mnonnull\u001b[39m \u001b[95mreadonly\u001b[39m \u001b[95malign\u001b[39m \u001b[33m8\u001b[39m \u001b[95mdereferenceable\u001b[39m\u001b[33m(\u001b[39m\u001b[33m40\u001b[39m\u001b[33m)\u001b[39m \u001b[0m%0\u001b[0m, \u001b[33m[\u001b[39m\u001b[33m1\u001b[39m \u001b[0mx \u001b[36mdouble\u001b[39m\u001b[33m]\u001b[39m\u001b[0m* \u001b[95mnocapture\u001b[39m \u001b[95mnoundef\u001b[39m \u001b[95mnonnull\u001b[39m \u001b[95mreadonly\u001b[39m \u001b[95malign\u001b[39m \u001b[33m8\u001b[39m \u001b[95mdereferenceable\u001b[39m\u001b[33m(\u001b[39m\u001b[33m8\u001b[39m\u001b[33m)\u001b[39m \u001b[0m%1\u001b[33m)\u001b[39m \u001b[0m#0 \u001b[33m{\u001b[39m\n",
      "\u001b[91mtop:\u001b[39m\n",
      "  \u001b[96m\u001b[1mret\u001b[22m\u001b[39m \u001b[36mdouble\u001b[39m \u001b[33m3.000000e+00\u001b[39m\n",
      "\u001b[33m}\u001b[39m\n"
     ]
    }
   ],
   "source": [
    "@code_llvm diff(x + x + x, x)"
   ]
  },
  {
   "cell_type": "markdown",
   "id": "3bb52e29-0910-45be-8408-95bab9861259",
   "metadata": {},
   "source": [
    "Now it statically returns 3"
   ]
  },
  {
   "cell_type": "code",
   "execution_count": 19,
   "id": "69c15b76-4cb4-467c-ae87-fa93f9682afe",
   "metadata": {},
   "outputs": [
    {
     "name": "stdout",
     "output_type": "stream",
     "text": [
      "\u001b[90m;  @ In[1]:77 within `diff`\u001b[39m\n",
      "\u001b[95mdefine\u001b[39m \u001b[36mdouble\u001b[39m \u001b[93m@julia_diff_1369\u001b[39m\u001b[33m(\u001b[39m\u001b[33m{\u001b[39m \u001b[36mdouble\u001b[39m\u001b[0m, \u001b[33m{\u001b[39m \u001b[33m{\u001b[39m \u001b[36mdouble\u001b[39m\u001b[0m, \u001b[33m[\u001b[39m\u001b[33m1\u001b[39m \u001b[0mx \u001b[36mdouble\u001b[39m\u001b[33m]\u001b[39m \u001b[33m}\u001b[39m \u001b[33m}\u001b[39m \u001b[33m}\u001b[39m\u001b[0m* \u001b[95mnocapture\u001b[39m \u001b[95mnoundef\u001b[39m \u001b[95mnonnull\u001b[39m \u001b[95mreadonly\u001b[39m \u001b[95malign\u001b[39m \u001b[33m8\u001b[39m \u001b[95mdereferenceable\u001b[39m\u001b[33m(\u001b[39m\u001b[33m24\u001b[39m\u001b[33m)\u001b[39m \u001b[0m%0\u001b[0m, \u001b[33m[\u001b[39m\u001b[33m1\u001b[39m \u001b[0mx \u001b[36mdouble\u001b[39m\u001b[33m]\u001b[39m\u001b[0m* \u001b[95mnocapture\u001b[39m \u001b[95mnoundef\u001b[39m \u001b[95mnonnull\u001b[39m \u001b[95mreadonly\u001b[39m \u001b[95malign\u001b[39m \u001b[33m8\u001b[39m \u001b[95mdereferenceable\u001b[39m\u001b[33m(\u001b[39m\u001b[33m8\u001b[39m\u001b[33m)\u001b[39m \u001b[0m%1\u001b[33m)\u001b[39m \u001b[0m#0 \u001b[33m{\u001b[39m\n",
      "\u001b[91mtop:\u001b[39m\n",
      "\u001b[90m; ┌ @ In[1]:8 within `value`\u001b[39m\n",
      "\u001b[90m; │┌ @ Base.jl:37 within `getproperty`\u001b[39m\n",
      "    \u001b[0m%2 \u001b[0m= \u001b[96m\u001b[1mgetelementptr\u001b[22m\u001b[39m \u001b[95minbounds\u001b[39m \u001b[33m{\u001b[39m \u001b[36mdouble\u001b[39m\u001b[0m, \u001b[33m{\u001b[39m \u001b[33m{\u001b[39m \u001b[36mdouble\u001b[39m\u001b[0m, \u001b[33m[\u001b[39m\u001b[33m1\u001b[39m \u001b[0mx \u001b[36mdouble\u001b[39m\u001b[33m]\u001b[39m \u001b[33m}\u001b[39m \u001b[33m}\u001b[39m \u001b[33m}\u001b[39m\u001b[0m, \u001b[33m{\u001b[39m \u001b[36mdouble\u001b[39m\u001b[0m, \u001b[33m{\u001b[39m \u001b[33m{\u001b[39m \u001b[36mdouble\u001b[39m\u001b[0m, \u001b[33m[\u001b[39m\u001b[33m1\u001b[39m \u001b[0mx \u001b[36mdouble\u001b[39m\u001b[33m]\u001b[39m \u001b[33m}\u001b[39m \u001b[33m}\u001b[39m \u001b[33m}\u001b[39m\u001b[0m* \u001b[0m%0\u001b[0m, \u001b[36mi64\u001b[39m \u001b[33m0\u001b[39m\u001b[0m, \u001b[36mi32\u001b[39m \u001b[33m1\u001b[39m\u001b[0m, \u001b[36mi32\u001b[39m \u001b[33m0\u001b[39m\u001b[0m, \u001b[36mi32\u001b[39m \u001b[33m1\u001b[39m\u001b[0m, \u001b[36mi64\u001b[39m \u001b[33m0\u001b[39m\n",
      "\u001b[90m; └└\u001b[39m\n",
      "\u001b[90m; ┌ @ float.jl:410 within `*`\u001b[39m\n",
      "   \u001b[0m%3 \u001b[0m= \u001b[96m\u001b[1mload\u001b[22m\u001b[39m \u001b[36mdouble\u001b[39m\u001b[0m, \u001b[36mdouble\u001b[39m\u001b[0m* \u001b[0m%2\u001b[0m, \u001b[95malign\u001b[39m \u001b[33m8\u001b[39m\n",
      "   \u001b[0m%4 \u001b[0m= \u001b[96m\u001b[1mfmul\u001b[22m\u001b[39m \u001b[36mdouble\u001b[39m \u001b[0m%3\u001b[0m, \u001b[33m0.000000e+00\u001b[39m\n",
      "\u001b[90m; └\u001b[39m\n",
      "\u001b[90m; ┌ @ tuple.jl:29 within `getindex`\u001b[39m\n",
      "   \u001b[0m%5 \u001b[0m= \u001b[96m\u001b[1mgetelementptr\u001b[22m\u001b[39m \u001b[95minbounds\u001b[39m \u001b[33m{\u001b[39m \u001b[36mdouble\u001b[39m\u001b[0m, \u001b[33m{\u001b[39m \u001b[33m{\u001b[39m \u001b[36mdouble\u001b[39m\u001b[0m, \u001b[33m[\u001b[39m\u001b[33m1\u001b[39m \u001b[0mx \u001b[36mdouble\u001b[39m\u001b[33m]\u001b[39m \u001b[33m}\u001b[39m \u001b[33m}\u001b[39m \u001b[33m}\u001b[39m\u001b[0m, \u001b[33m{\u001b[39m \u001b[36mdouble\u001b[39m\u001b[0m, \u001b[33m{\u001b[39m \u001b[33m{\u001b[39m \u001b[36mdouble\u001b[39m\u001b[0m, \u001b[33m[\u001b[39m\u001b[33m1\u001b[39m \u001b[0mx \u001b[36mdouble\u001b[39m\u001b[33m]\u001b[39m \u001b[33m}\u001b[39m \u001b[33m}\u001b[39m \u001b[33m}\u001b[39m\u001b[0m* \u001b[0m%0\u001b[0m, \u001b[36mi64\u001b[39m \u001b[33m0\u001b[39m\u001b[0m, \u001b[36mi32\u001b[39m \u001b[33m1\u001b[39m\u001b[0m, \u001b[36mi32\u001b[39m \u001b[33m0\u001b[39m\u001b[0m, \u001b[36mi32\u001b[39m \u001b[33m0\u001b[39m\n",
      "\u001b[90m; └\u001b[39m\n",
      "\u001b[90m; ┌ @ float.jl:410 within `*`\u001b[39m\n",
      "   \u001b[0m%6 \u001b[0m= \u001b[96m\u001b[1mload\u001b[22m\u001b[39m \u001b[36mdouble\u001b[39m\u001b[0m, \u001b[36mdouble\u001b[39m\u001b[0m* \u001b[0m%5\u001b[0m, \u001b[95malign\u001b[39m \u001b[33m8\u001b[39m\n",
      "\u001b[90m; └\u001b[39m\n",
      "\u001b[90m; ┌ @ float.jl:408 within `+`\u001b[39m\n",
      "   \u001b[0m%7 \u001b[0m= \u001b[96m\u001b[1mfadd\u001b[22m\u001b[39m \u001b[36mdouble\u001b[39m \u001b[0m%4\u001b[0m, \u001b[0m%6\n",
      "\u001b[90m; └\u001b[39m\n",
      "  \u001b[96m\u001b[1mret\u001b[22m\u001b[39m \u001b[36mdouble\u001b[39m \u001b[0m%7\n",
      "\u001b[33m}\u001b[39m\n"
     ]
    }
   ],
   "source": [
    "@code_llvm  diff( 2.0 * x, x)"
   ]
  },
  {
   "cell_type": "markdown",
   "id": "0a824352-2532-4b63-989a-7baf2d9b4626",
   "metadata": {},
   "source": [
    "Here, the compiler can no longer statically return 2, since the factor 2 is not present in the type signature. \n",
    "\n",
    "Still, if you look at whats happening here, there is nothing but a few simple floating point lookups and a multiply.\n",
    "\n",
    "Btw, if you have trouble reading this, all the non-colorful lines are basically comments and can be ignored"
   ]
  },
  {
   "cell_type": "code",
   "execution_count": 20,
   "id": "a555a3b4-b235-4e22-83e9-97760e9606a7",
   "metadata": {},
   "outputs": [
    {
     "name": "stdout",
     "output_type": "stream",
     "text": [
      "\u001b[90m;  @ In[1]:87 within `diff`\u001b[39m\n",
      "\u001b[95mdefine\u001b[39m \u001b[36mdouble\u001b[39m \u001b[93m@julia_diff_1371\u001b[39m\u001b[33m(\u001b[39m\u001b[33m{\u001b[39m \u001b[36mdouble\u001b[39m\u001b[0m, \u001b[33m{\u001b[39m \u001b[33m[\u001b[39m\u001b[33m1\u001b[39m \u001b[0mx \u001b[36mdouble\u001b[39m\u001b[33m]\u001b[39m \u001b[33m}\u001b[39m \u001b[33m}\u001b[39m\u001b[0m* \u001b[95mnocapture\u001b[39m \u001b[95mnoundef\u001b[39m \u001b[95mnonnull\u001b[39m \u001b[95mreadonly\u001b[39m \u001b[95malign\u001b[39m \u001b[33m8\u001b[39m \u001b[95mdereferenceable\u001b[39m\u001b[33m(\u001b[39m\u001b[33m16\u001b[39m\u001b[33m)\u001b[39m \u001b[0m%0\u001b[0m, \u001b[33m[\u001b[39m\u001b[33m1\u001b[39m \u001b[0mx \u001b[36mdouble\u001b[39m\u001b[33m]\u001b[39m\u001b[0m* \u001b[95mnocapture\u001b[39m \u001b[95mnoundef\u001b[39m \u001b[95mnonnull\u001b[39m \u001b[95mreadonly\u001b[39m \u001b[95malign\u001b[39m \u001b[33m8\u001b[39m \u001b[95mdereferenceable\u001b[39m\u001b[33m(\u001b[39m\u001b[33m8\u001b[39m\u001b[33m)\u001b[39m \u001b[0m%1\u001b[33m)\u001b[39m \u001b[0m#0 \u001b[33m{\u001b[39m\n",
      "\u001b[91mtop:\u001b[39m\n",
      "\u001b[90m; ┌ @ In[1]:8 within `value`\u001b[39m\n",
      "\u001b[90m; │┌ @ Base.jl:37 within `getproperty`\u001b[39m\n",
      "    \u001b[0m%2 \u001b[0m= \u001b[96m\u001b[1mgetelementptr\u001b[22m\u001b[39m \u001b[95minbounds\u001b[39m \u001b[33m{\u001b[39m \u001b[36mdouble\u001b[39m\u001b[0m, \u001b[33m{\u001b[39m \u001b[33m[\u001b[39m\u001b[33m1\u001b[39m \u001b[0mx \u001b[36mdouble\u001b[39m\u001b[33m]\u001b[39m \u001b[33m}\u001b[39m \u001b[33m}\u001b[39m\u001b[0m, \u001b[33m{\u001b[39m \u001b[36mdouble\u001b[39m\u001b[0m, \u001b[33m{\u001b[39m \u001b[33m[\u001b[39m\u001b[33m1\u001b[39m \u001b[0mx \u001b[36mdouble\u001b[39m\u001b[33m]\u001b[39m \u001b[33m}\u001b[39m \u001b[33m}\u001b[39m\u001b[0m* \u001b[0m%0\u001b[0m, \u001b[36mi64\u001b[39m \u001b[33m0\u001b[39m\u001b[0m, \u001b[36mi32\u001b[39m \u001b[33m1\u001b[39m\u001b[0m, \u001b[36mi32\u001b[39m \u001b[33m0\u001b[39m\u001b[0m, \u001b[36mi64\u001b[39m \u001b[33m0\u001b[39m\n",
      "\u001b[90m; └└\u001b[39m\n",
      "  \u001b[0m%3 \u001b[0m= \u001b[96m\u001b[1mload\u001b[22m\u001b[39m \u001b[36mdouble\u001b[39m\u001b[0m, \u001b[36mdouble\u001b[39m\u001b[0m* \u001b[0m%2\u001b[0m, \u001b[95malign\u001b[39m \u001b[33m8\u001b[39m\n",
      "  \u001b[0m%4 \u001b[0m= \u001b[96m\u001b[1mcall\u001b[22m\u001b[39m \u001b[36mdouble\u001b[39m \u001b[93m@j_cos_1373\u001b[39m\u001b[33m(\u001b[39m\u001b[36mdouble\u001b[39m \u001b[0m%3\u001b[33m)\u001b[39m \u001b[0m#0\n",
      "  \u001b[96m\u001b[1mret\u001b[22m\u001b[39m \u001b[36mdouble\u001b[39m \u001b[0m%4\n",
      "\u001b[33m}\u001b[39m\n"
     ]
    }
   ],
   "source": [
    "@code_llvm diff(sin(x) , x)"
   ]
  },
  {
   "cell_type": "markdown",
   "id": "e9c87faa-61f7-493b-aa8c-81b3a5e9d578",
   "metadata": {},
   "source": [
    "This _looks_ a bit more complicated, but all thats happening here really is that we are fetching some double value, and then passing it to the `cos` function"
   ]
  },
  {
   "cell_type": "code",
   "execution_count": 21,
   "id": "b0731c42-cfa7-44f1-8285-c8f9b3931d01",
   "metadata": {},
   "outputs": [
    {
     "name": "stdout",
     "output_type": "stream",
     "text": [
      "\u001b[90m;  @ In[1]:87 within `diff`\u001b[39m\n",
      "\u001b[95mdefine\u001b[39m \u001b[36mdouble\u001b[39m \u001b[93m@julia_diff_1376\u001b[39m\u001b[33m(\u001b[39m\u001b[33m{\u001b[39m \u001b[36mdouble\u001b[39m\u001b[0m, \u001b[33m{\u001b[39m \u001b[33m{\u001b[39m \u001b[36mdouble\u001b[39m\u001b[0m, \u001b[33m{\u001b[39m \u001b[33m[\u001b[39m\u001b[33m2\u001b[39m \u001b[0mx \u001b[33m[\u001b[39m\u001b[33m1\u001b[39m \u001b[0mx \u001b[36mdouble\u001b[39m\u001b[33m]\u001b[39m\u001b[33m]\u001b[39m \u001b[33m}\u001b[39m \u001b[33m}\u001b[39m \u001b[33m}\u001b[39m \u001b[33m}\u001b[39m\u001b[0m* \u001b[95mnocapture\u001b[39m \u001b[95mnoundef\u001b[39m \u001b[95mnonnull\u001b[39m \u001b[95mreadonly\u001b[39m \u001b[95malign\u001b[39m \u001b[33m8\u001b[39m \u001b[95mdereferenceable\u001b[39m\u001b[33m(\u001b[39m\u001b[33m32\u001b[39m\u001b[33m)\u001b[39m \u001b[0m%0\u001b[0m, \u001b[33m[\u001b[39m\u001b[33m1\u001b[39m \u001b[0mx \u001b[36mdouble\u001b[39m\u001b[33m]\u001b[39m\u001b[0m* \u001b[95mnocapture\u001b[39m \u001b[95mnoundef\u001b[39m \u001b[95mnonnull\u001b[39m \u001b[95mreadonly\u001b[39m \u001b[95malign\u001b[39m \u001b[33m8\u001b[39m \u001b[95mdereferenceable\u001b[39m\u001b[33m(\u001b[39m\u001b[33m8\u001b[39m\u001b[33m)\u001b[39m \u001b[0m%1\u001b[33m)\u001b[39m \u001b[0m#0 \u001b[33m{\u001b[39m\n",
      "\u001b[91mtop:\u001b[39m\n",
      "\u001b[90m;  @ In[1]:87 within `diff` @ In[1]:77\u001b[39m\n",
      "\u001b[90m; ┌ @ In[1]:8 within `value`\u001b[39m\n",
      "\u001b[90m; │┌ @ Base.jl:37 within `getproperty`\u001b[39m\n",
      "    \u001b[0m%2 \u001b[0m= \u001b[96m\u001b[1mgetelementptr\u001b[22m\u001b[39m \u001b[95minbounds\u001b[39m \u001b[33m{\u001b[39m \u001b[36mdouble\u001b[39m\u001b[0m, \u001b[33m{\u001b[39m \u001b[33m{\u001b[39m \u001b[36mdouble\u001b[39m\u001b[0m, \u001b[33m{\u001b[39m \u001b[33m[\u001b[39m\u001b[33m2\u001b[39m \u001b[0mx \u001b[33m[\u001b[39m\u001b[33m1\u001b[39m \u001b[0mx \u001b[36mdouble\u001b[39m\u001b[33m]\u001b[39m\u001b[33m]\u001b[39m \u001b[33m}\u001b[39m \u001b[33m}\u001b[39m \u001b[33m}\u001b[39m \u001b[33m}\u001b[39m\u001b[0m, \u001b[33m{\u001b[39m \u001b[36mdouble\u001b[39m\u001b[0m, \u001b[33m{\u001b[39m \u001b[33m{\u001b[39m \u001b[36mdouble\u001b[39m\u001b[0m, \u001b[33m{\u001b[39m \u001b[33m[\u001b[39m\u001b[33m2\u001b[39m \u001b[0mx \u001b[33m[\u001b[39m\u001b[33m1\u001b[39m \u001b[0mx \u001b[36mdouble\u001b[39m\u001b[33m]\u001b[39m\u001b[33m]\u001b[39m \u001b[33m}\u001b[39m \u001b[33m}\u001b[39m \u001b[33m}\u001b[39m \u001b[33m}\u001b[39m\u001b[0m* \u001b[0m%0\u001b[0m, \u001b[36mi64\u001b[39m \u001b[33m0\u001b[39m\u001b[0m, \u001b[36mi32\u001b[39m \u001b[33m1\u001b[39m\u001b[0m, \u001b[36mi32\u001b[39m \u001b[33m0\u001b[39m\u001b[0m, \u001b[36mi32\u001b[39m \u001b[33m1\u001b[39m\u001b[0m, \u001b[36mi32\u001b[39m \u001b[33m0\u001b[39m\u001b[0m, \u001b[36mi64\u001b[39m \u001b[33m1\u001b[39m\u001b[0m, \u001b[36mi64\u001b[39m \u001b[33m0\u001b[39m\n",
      "\u001b[90m; └└\u001b[39m\n",
      "\u001b[90m; ┌ @ float.jl:410 within `*`\u001b[39m\n",
      "   \u001b[0m%3 \u001b[0m= \u001b[96m\u001b[1mload\u001b[22m\u001b[39m \u001b[36mdouble\u001b[39m\u001b[0m, \u001b[36mdouble\u001b[39m\u001b[0m* \u001b[0m%2\u001b[0m, \u001b[95malign\u001b[39m \u001b[33m8\u001b[39m\n",
      "\u001b[90m; └\u001b[39m\n",
      "\u001b[90m; ┌ @ In[1]:8 within `value`\u001b[39m\n",
      "\u001b[90m; │┌ @ Base.jl:37 within `getproperty`\u001b[39m\n",
      "    \u001b[0m%4 \u001b[0m= \u001b[96m\u001b[1mgetelementptr\u001b[22m\u001b[39m \u001b[95minbounds\u001b[39m \u001b[33m{\u001b[39m \u001b[36mdouble\u001b[39m\u001b[0m, \u001b[33m{\u001b[39m \u001b[33m{\u001b[39m \u001b[36mdouble\u001b[39m\u001b[0m, \u001b[33m{\u001b[39m \u001b[33m[\u001b[39m\u001b[33m2\u001b[39m \u001b[0mx \u001b[33m[\u001b[39m\u001b[33m1\u001b[39m \u001b[0mx \u001b[36mdouble\u001b[39m\u001b[33m]\u001b[39m\u001b[33m]\u001b[39m \u001b[33m}\u001b[39m \u001b[33m}\u001b[39m \u001b[33m}\u001b[39m \u001b[33m}\u001b[39m\u001b[0m, \u001b[33m{\u001b[39m \u001b[36mdouble\u001b[39m\u001b[0m, \u001b[33m{\u001b[39m \u001b[33m{\u001b[39m \u001b[36mdouble\u001b[39m\u001b[0m, \u001b[33m{\u001b[39m \u001b[33m[\u001b[39m\u001b[33m2\u001b[39m \u001b[0mx \u001b[33m[\u001b[39m\u001b[33m1\u001b[39m \u001b[0mx \u001b[36mdouble\u001b[39m\u001b[33m]\u001b[39m\u001b[33m]\u001b[39m \u001b[33m}\u001b[39m \u001b[33m}\u001b[39m \u001b[33m}\u001b[39m \u001b[33m}\u001b[39m\u001b[0m* \u001b[0m%0\u001b[0m, \u001b[36mi64\u001b[39m \u001b[33m0\u001b[39m\u001b[0m, \u001b[36mi32\u001b[39m \u001b[33m1\u001b[39m\u001b[0m, \u001b[36mi32\u001b[39m \u001b[33m0\u001b[39m\u001b[0m, \u001b[36mi32\u001b[39m \u001b[33m1\u001b[39m\u001b[0m, \u001b[36mi32\u001b[39m \u001b[33m0\u001b[39m\u001b[0m, \u001b[36mi64\u001b[39m \u001b[33m0\u001b[39m\u001b[0m, \u001b[36mi64\u001b[39m \u001b[33m0\u001b[39m\n",
      "\u001b[90m; └└\u001b[39m\n",
      "\u001b[90m; ┌ @ float.jl:410 within `*`\u001b[39m\n",
      "   \u001b[0m%5 \u001b[0m= \u001b[96m\u001b[1mload\u001b[22m\u001b[39m \u001b[36mdouble\u001b[39m\u001b[0m, \u001b[36mdouble\u001b[39m\u001b[0m* \u001b[0m%4\u001b[0m, \u001b[95malign\u001b[39m \u001b[33m8\u001b[39m\n",
      "\u001b[90m; └\u001b[39m\n",
      "\u001b[90m; ┌ @ float.jl:408 within `+`\u001b[39m\n",
      "   \u001b[0m%6 \u001b[0m= \u001b[96m\u001b[1mfadd\u001b[22m\u001b[39m \u001b[36mdouble\u001b[39m \u001b[0m%3\u001b[0m, \u001b[0m%5\n",
      "\u001b[90m; └\u001b[39m\n",
      "\u001b[90m;  @ In[1]:87 within `diff`\u001b[39m\n",
      "\u001b[90m; ┌ @ In[1]:23 within `value`\u001b[39m\n",
      "\u001b[90m; │┌ @ Base.jl:37 within `getproperty`\u001b[39m\n",
      "    \u001b[0m%7 \u001b[0m= \u001b[96m\u001b[1mgetelementptr\u001b[22m\u001b[39m \u001b[95minbounds\u001b[39m \u001b[33m{\u001b[39m \u001b[36mdouble\u001b[39m\u001b[0m, \u001b[33m{\u001b[39m \u001b[33m{\u001b[39m \u001b[36mdouble\u001b[39m\u001b[0m, \u001b[33m{\u001b[39m \u001b[33m[\u001b[39m\u001b[33m2\u001b[39m \u001b[0mx \u001b[33m[\u001b[39m\u001b[33m1\u001b[39m \u001b[0mx \u001b[36mdouble\u001b[39m\u001b[33m]\u001b[39m\u001b[33m]\u001b[39m \u001b[33m}\u001b[39m \u001b[33m}\u001b[39m \u001b[33m}\u001b[39m \u001b[33m}\u001b[39m\u001b[0m, \u001b[33m{\u001b[39m \u001b[36mdouble\u001b[39m\u001b[0m, \u001b[33m{\u001b[39m \u001b[33m{\u001b[39m \u001b[36mdouble\u001b[39m\u001b[0m, \u001b[33m{\u001b[39m \u001b[33m[\u001b[39m\u001b[33m2\u001b[39m \u001b[0mx \u001b[33m[\u001b[39m\u001b[33m1\u001b[39m \u001b[0mx \u001b[36mdouble\u001b[39m\u001b[33m]\u001b[39m\u001b[33m]\u001b[39m \u001b[33m}\u001b[39m \u001b[33m}\u001b[39m \u001b[33m}\u001b[39m \u001b[33m}\u001b[39m\u001b[0m* \u001b[0m%0\u001b[0m, \u001b[36mi64\u001b[39m \u001b[33m0\u001b[39m\u001b[0m, \u001b[36mi32\u001b[39m \u001b[33m1\u001b[39m\u001b[0m, \u001b[36mi32\u001b[39m \u001b[33m0\u001b[39m\u001b[0m, \u001b[36mi32\u001b[39m \u001b[33m0\u001b[39m\n",
      "\u001b[90m; └└\u001b[39m\n",
      "  \u001b[0m%8 \u001b[0m= \u001b[96m\u001b[1mload\u001b[22m\u001b[39m \u001b[36mdouble\u001b[39m\u001b[0m, \u001b[36mdouble\u001b[39m\u001b[0m* \u001b[0m%7\u001b[0m, \u001b[95malign\u001b[39m \u001b[33m8\u001b[39m\n",
      "  \u001b[0m%9 \u001b[0m= \u001b[96m\u001b[1mcall\u001b[22m\u001b[39m \u001b[36mdouble\u001b[39m \u001b[93m@j_cos_1378\u001b[39m\u001b[33m(\u001b[39m\u001b[36mdouble\u001b[39m \u001b[0m%8\u001b[33m)\u001b[39m \u001b[0m#0\n",
      "\u001b[90m; ┌ @ float.jl:410 within `*`\u001b[39m\n",
      "   \u001b[0m%10 \u001b[0m= \u001b[96m\u001b[1mfmul\u001b[22m\u001b[39m \u001b[36mdouble\u001b[39m \u001b[0m%6\u001b[0m, \u001b[0m%9\n",
      "\u001b[90m; └\u001b[39m\n",
      "  \u001b[96m\u001b[1mret\u001b[22m\u001b[39m \u001b[36mdouble\u001b[39m \u001b[0m%10\n",
      "\u001b[33m}\u001b[39m\n"
     ]
    }
   ],
   "source": [
    "@code_llvm diff(sin(x*x) , x)"
   ]
  },
  {
   "cell_type": "markdown",
   "id": "c0a0e8d3-ef9f-4a10-af81-5f93ace81666",
   "metadata": {},
   "source": [
    "...And here we fetch the value of `x`, calculate `x+x`, fetch the stored value of `x^2`, calculate `cos(x^2)`, and then multiply the two values. So basically $(x+x) * cos(x^2)$\n",
    "\n",
    "(Actually, we fetch `x` twice. The type signature does not contain the information that the two values are identical)"
   ]
  },
  {
   "cell_type": "code",
   "execution_count": 22,
   "id": "109e65f3-30c7-4d27-a8df-0a74ce5b63f6",
   "metadata": {},
   "outputs": [
    {
     "name": "stdout",
     "output_type": "stream",
     "text": [
      "\u001b[90m;  @ In[1]:87 within `diff`\u001b[39m\n",
      "\u001b[95mdefine\u001b[39m \u001b[36mdouble\u001b[39m \u001b[93m@julia_diff_1381\u001b[39m\u001b[33m(\u001b[39m\u001b[33m{\u001b[39m \u001b[36mdouble\u001b[39m\u001b[0m, \u001b[33m{\u001b[39m \u001b[33m[\u001b[39m\u001b[33m1\u001b[39m \u001b[0mx \u001b[36mdouble\u001b[39m\u001b[33m]\u001b[39m \u001b[33m}\u001b[39m \u001b[33m}\u001b[39m\u001b[0m* \u001b[95mnocapture\u001b[39m \u001b[95mnoundef\u001b[39m \u001b[95mnonnull\u001b[39m \u001b[95mreadonly\u001b[39m \u001b[95malign\u001b[39m \u001b[33m8\u001b[39m \u001b[95mdereferenceable\u001b[39m\u001b[33m(\u001b[39m\u001b[33m16\u001b[39m\u001b[33m)\u001b[39m \u001b[0m%0\u001b[0m, \u001b[33m[\u001b[39m\u001b[33m1\u001b[39m \u001b[0mx \u001b[36mdouble\u001b[39m\u001b[33m]\u001b[39m\u001b[0m* \u001b[95mnocapture\u001b[39m \u001b[95mnoundef\u001b[39m \u001b[95mnonnull\u001b[39m \u001b[95mreadonly\u001b[39m \u001b[95malign\u001b[39m \u001b[33m8\u001b[39m \u001b[95mdereferenceable\u001b[39m\u001b[33m(\u001b[39m\u001b[33m8\u001b[39m\u001b[33m)\u001b[39m \u001b[0m%1\u001b[33m)\u001b[39m \u001b[0m#0 \u001b[33m{\u001b[39m\n",
      "\u001b[91mtop:\u001b[39m\n",
      "\u001b[90m; ┌ @ In[1]:8 within `value`\u001b[39m\n",
      "\u001b[90m; │┌ @ Base.jl:37 within `getproperty`\u001b[39m\n",
      "    \u001b[0m%2 \u001b[0m= \u001b[96m\u001b[1mgetelementptr\u001b[22m\u001b[39m \u001b[95minbounds\u001b[39m \u001b[33m{\u001b[39m \u001b[36mdouble\u001b[39m\u001b[0m, \u001b[33m{\u001b[39m \u001b[33m[\u001b[39m\u001b[33m1\u001b[39m \u001b[0mx \u001b[36mdouble\u001b[39m\u001b[33m]\u001b[39m \u001b[33m}\u001b[39m \u001b[33m}\u001b[39m\u001b[0m, \u001b[33m{\u001b[39m \u001b[36mdouble\u001b[39m\u001b[0m, \u001b[33m{\u001b[39m \u001b[33m[\u001b[39m\u001b[33m1\u001b[39m \u001b[0mx \u001b[36mdouble\u001b[39m\u001b[33m]\u001b[39m \u001b[33m}\u001b[39m \u001b[33m}\u001b[39m\u001b[0m* \u001b[0m%0\u001b[0m, \u001b[36mi64\u001b[39m \u001b[33m0\u001b[39m\u001b[0m, \u001b[36mi32\u001b[39m \u001b[33m1\u001b[39m\u001b[0m, \u001b[36mi32\u001b[39m \u001b[33m0\u001b[39m\u001b[0m, \u001b[36mi64\u001b[39m \u001b[33m0\u001b[39m\n",
      "\u001b[90m; └└\u001b[39m\n",
      "\u001b[90m; ┌ @ In[1]:94 within `#11`\u001b[39m\n",
      "   \u001b[0m%3 \u001b[0m= \u001b[96m\u001b[1mload\u001b[22m\u001b[39m \u001b[36mdouble\u001b[39m\u001b[0m, \u001b[36mdouble\u001b[39m\u001b[0m* \u001b[0m%2\u001b[0m, \u001b[95malign\u001b[39m \u001b[33m8\u001b[39m\n",
      "   \u001b[0m%4 \u001b[0m= \u001b[96m\u001b[1mcall\u001b[22m\u001b[39m \u001b[36mdouble\u001b[39m \u001b[93m@j_sin_1383\u001b[39m\u001b[33m(\u001b[39m\u001b[36mdouble\u001b[39m \u001b[0m%3\u001b[33m)\u001b[39m \u001b[0m#0\n",
      "\u001b[90m; │┌ @ promotion.jl:411 within `*` @ float.jl:410\u001b[39m\n",
      "    \u001b[0m%5 \u001b[0m= \u001b[96m\u001b[1mfneg\u001b[22m\u001b[39m \u001b[36mdouble\u001b[39m \u001b[0m%4\n",
      "\u001b[90m; └└\u001b[39m\n",
      "  \u001b[96m\u001b[1mret\u001b[22m\u001b[39m \u001b[36mdouble\u001b[39m \u001b[0m%5\n",
      "\u001b[33m}\u001b[39m\n"
     ]
    }
   ],
   "source": [
    "@code_llvm diff(cos(x) , x)"
   ]
  },
  {
   "cell_type": "markdown",
   "id": "6258aedf-25b0-458a-9da0-8be443747eb7",
   "metadata": {},
   "source": [
    "This fetches a double, passes it to the `sin` function, and then flips the sign of the result; $-sin(x)$"
   ]
  },
  {
   "cell_type": "markdown",
   "id": "b231f310-311d-4b82-85ba-99d46a2e8216",
   "metadata": {},
   "source": [
    "## Final Notes\n",
    "\n",
    "of course I chose some rather benign examples. There are limitations and shortcomings with this approach. But I hope I could show how one can engrave information into the type signature of their values, and how to use such information to controll behaviour and have the compiler do my work as a programmer for me at compiletime.\n"
   ]
  },
  {
   "cell_type": "code",
   "execution_count": null,
   "id": "bee102b2-2751-4800-84e7-ec37a293f037",
   "metadata": {},
   "outputs": [],
   "source": []
  }
 ],
 "metadata": {
  "kernelspec": {
   "display_name": "julia 1.9.3",
   "language": "julia",
   "name": "julia-1.9"
  },
  "language_info": {
   "file_extension": ".jl",
   "mimetype": "application/julia",
   "name": "julia",
   "version": "1.9.3"
  }
 },
 "nbformat": 4,
 "nbformat_minor": 5
}
